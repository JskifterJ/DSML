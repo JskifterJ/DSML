{
 "cells": [
  {
   "cell_type": "code",
   "execution_count": 1,
   "id": "3291378f",
   "metadata": {},
   "outputs": [
    {
     "name": "stdout",
     "output_type": "stream",
     "text": [
      "Shape: (14767993, 9)\n",
      "Columns: ['Country', 'Samplingpoint', 'Pollutant', 'Start', 'End', 'Value', 'Unit', 'AggType', 'Notation']\n",
      "\n",
      "Head:\n",
      "  Country           Samplingpoint  Pollutant                Start  \\\n",
      "0      NO  NO/SPO_NO0073A_38_1785         38  2019-01-01 00:00:00   \n",
      "1      NO  NO/SPO_NO0073A_38_1785         38  2019-01-01 01:00:00   \n",
      "2      NO  NO/SPO_NO0073A_38_1785         38  2019-01-01 02:00:00   \n",
      "3      NO  NO/SPO_NO0073A_38_1785         38  2019-01-01 03:00:00   \n",
      "4      NO  NO/SPO_NO0073A_38_1785         38  2019-01-01 04:00:00   \n",
      "\n",
      "                   End   Value    Unit AggType Notation  \n",
      "0  2019-01-01 01:00:00 -9900.0  ug.m-3    hour     PM10  \n",
      "1  2019-01-01 02:00:00 -9900.0  ug.m-3    hour     PM10  \n",
      "2  2019-01-01 03:00:00 -9900.0  ug.m-3    hour     PM10  \n",
      "3  2019-01-01 04:00:00 -9900.0  ug.m-3    hour     PM10  \n",
      "4  2019-01-01 05:00:00 -9900.0  ug.m-3    hour     PM10  \n",
      "\n",
      "Summary statistics:\n",
      "         Country          Samplingpoint     Pollutant                Start  \\\n",
      "count   14767993               14767993  1.476799e+07             14767993   \n",
      "unique         5                    199           NaN                96409   \n",
      "top           AT  NO/SPO_NO0093A_8_1042           NaN  2022-01-01 15:00:00   \n",
      "freq     4374113                  96408           NaN                  190   \n",
      "mean         NaN                    NaN  9.038945e+02                  NaN   \n",
      "std          NaN                    NaN  2.130238e+03                  NaN   \n",
      "min          NaN                    NaN  5.000000e+00                  NaN   \n",
      "25%          NaN                    NaN  7.000000e+00                  NaN   \n",
      "50%          NaN                    NaN  8.000000e+00                  NaN   \n",
      "75%          NaN                    NaN  3.800000e+01                  NaN   \n",
      "max          NaN                    NaN  6.001000e+03                  NaN   \n",
      "\n",
      "                        End         Value      Unit   AggType  Notation  \n",
      "count              14767993  1.476799e+07  14767993  14767993  14767993  \n",
      "unique                96409           NaN         1         1         6  \n",
      "top     2022-01-01 16:00:00           NaN    ug.m-3      hour       NO2  \n",
      "freq                    190           NaN  14767993  14767993   3779641  \n",
      "mean                    NaN -2.116533e+03       NaN       NaN       NaN  \n",
      "std                     NaN  6.085374e+06       NaN       NaN       NaN  \n",
      "min                     NaN -1.167965e+10       NaN       NaN       NaN  \n",
      "25%                     NaN  6.212550e+00       NaN       NaN       NaN  \n",
      "50%                     NaN  1.510785e+01       NaN       NaN       NaN  \n",
      "75%                     NaN  3.314390e+01       NaN       NaN       NaN  \n",
      "max                     NaN  1.183894e+10       NaN       NaN       NaN  \n",
      "\n",
      "Missing values per column:\n",
      "Country          0\n",
      "Samplingpoint    0\n",
      "Pollutant        0\n",
      "Start            0\n",
      "End              0\n",
      "Value            0\n",
      "Unit             0\n",
      "AggType          0\n",
      "Notation         0\n",
      "dtype: int64\n"
     ]
    }
   ],
   "source": [
    "import pandas as pd\n",
    "\n",
    "# Load the air quality merged data\n",
    "aq_df = pd.read_csv(\"../data/processed/AQ_merged_data_export.csv\")\n",
    "\n",
    "# Display basic info\n",
    "print(\"Shape:\", aq_df.shape)\n",
    "print(\"Columns:\", aq_df.columns.tolist())\n",
    "print(\"\\nHead:\")\n",
    "print(aq_df.head())\n",
    "\n",
    "# Summary statistics\n",
    "print(\"\\nSummary statistics:\")\n",
    "print(aq_df.describe(include='all'))\n",
    "\n",
    "# Check for missing values\n",
    "print(\"\\nMissing values per column:\")\n",
    "print(aq_df.isnull().sum())"
   ]
  }
 ],
 "metadata": {
  "kernelspec": {
   "display_name": "dsml_EV_project",
   "language": "python",
   "name": "python3"
  },
  "language_info": {
   "codemirror_mode": {
    "name": "ipython",
    "version": 3
   },
   "file_extension": ".py",
   "mimetype": "text/x-python",
   "name": "python",
   "nbconvert_exporter": "python",
   "pygments_lexer": "ipython3",
   "version": "3.12.7"
  }
 },
 "nbformat": 4,
 "nbformat_minor": 5
}
