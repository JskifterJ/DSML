{
 "cells": [
  {
   "cell_type": "code",
   "execution_count": null,
   "id": "db88eb53",
   "metadata": {},
   "outputs": [],
   "source": [
    "import pandas as pd\n",
    "import os\n",
    "import matplotlib.pyplot as plt\n",
    "import seaborn as sns\n",
    "\n",
    "# Debug: Check the current working directory\n",
    "print(\"Current Working Directory:\", os.getcwd())\n",
    "\n",
    "# Set the path to the raw data folder\n",
    "data_path = \"../data/raw\"\n",
    "\n",
    "# Verify if the path exists\n",
    "if not os.path.exists(data_path):\n",
    "    print(f\"Relative path '{data_path}' not found. Using absolute path instead.\")\n",
    "    data_path = \"c:/Users/jskif/OneDrive - epfl.ch/Documents/SMT/DSML/DSML/data/raw\"\n",
    "\n",
    "# List all CSV files in the raw data folder\n",
    "csv_files = [file for file in os.listdir(data_path) if file.endswith(\".csv\")]\n",
    "\n",
    "# Load all CSV files into a dictionary of DataFrames\n",
    "dataframes = {}\n",
    "for file in csv_files:\n",
    "    country_name = file.split(\"_\")[0]  # Extract country name from the file name\n",
    "    file_path = os.path.join(data_path, file)\n",
    "    dataframes[country_name] = pd.read_csv(file_path)\n",
    "\n",
    "# Display the first few rows of each dataset\n",
    "for country, df in dataframes.items():\n",
    "    print(f\"Dataset for {country}:\")\n",
    "    print(df.head(), \"\\n\")\n",
    "\n",
    "# Combine all datasets into a single DataFrame for easier analysis\n",
    "combined_df = pd.concat(dataframes.values(), keys=dataframes.keys(), names=[\"Country\", \"Index\"]).reset_index()\n",
    "\n",
    "# Display basic information about the combined dataset\n",
    "print(\"Combined Dataset Info:\")\n",
    "print(combined_df.info())\n",
    "\n",
    "# Display summary statistics\n",
    "print(\"\\nSummary Statistics:\")\n",
    "print(combined_df.describe())\n",
    "\n",
    "# Check for missing values\n",
    "print(\"\\nMissing Values:\")\n",
    "print(combined_df.isnull().sum())\n",
    "\n",
    "# Save the combined dataset to the processed folder\n",
    "processed_path = \"../data/processed\"\n",
    "os.makedirs(processed_path, exist_ok=True)\n",
    "combined_df.to_csv(os.path.join(processed_path, \"combined_fleet_data.csv\"), index=False)\n",
    "print(f\"Combined dataset saved to {processed_path}/combined_fleet_data.csv\")"
   ]
  }
 ],
 "metadata": {
  "kernelspec": {
   "display_name": "dsml_EV_project",
   "language": "python",
   "name": "python3"
  },
  "language_info": {
   "name": "python",
   "version": "3.12.7"
  }
 },
 "nbformat": 4,
 "nbformat_minor": 5
}
