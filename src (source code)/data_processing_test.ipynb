{
 "cells": [
  {
   "cell_type": "code",
   "execution_count": 11,
   "metadata": {},
   "outputs": [
    {
     "name": "stdout",
     "output_type": "stream",
     "text": [
      "Requirement already satisfied: pandas in /Library/Frameworks/Python.framework/Versions/3.13/lib/python3.13/site-packages (2.2.3)\n",
      "Requirement already satisfied: pyarrow in /Library/Frameworks/Python.framework/Versions/3.13/lib/python3.13/site-packages (19.0.1)\n",
      "Requirement already satisfied: numpy>=1.26.0 in /Library/Frameworks/Python.framework/Versions/3.13/lib/python3.13/site-packages (from pandas) (2.2.3)\n",
      "Requirement already satisfied: python-dateutil>=2.8.2 in /Library/Frameworks/Python.framework/Versions/3.13/lib/python3.13/site-packages (from pandas) (2.9.0.post0)\n",
      "Requirement already satisfied: pytz>=2020.1 in /Library/Frameworks/Python.framework/Versions/3.13/lib/python3.13/site-packages (from pandas) (2025.1)\n",
      "Requirement already satisfied: tzdata>=2022.7 in /Library/Frameworks/Python.framework/Versions/3.13/lib/python3.13/site-packages (from pandas) (2025.1)\n",
      "Requirement already satisfied: six>=1.5 in /Library/Frameworks/Python.framework/Versions/3.13/lib/python3.13/site-packages (from python-dateutil>=2.8.2->pandas) (1.17.0)\n",
      "\n",
      "\u001b[1m[\u001b[0m\u001b[34;49mnotice\u001b[0m\u001b[1;39;49m]\u001b[0m\u001b[39;49m A new release of pip is available: \u001b[0m\u001b[31;49m25.0.1\u001b[0m\u001b[39;49m -> \u001b[0m\u001b[32;49m25.1.1\u001b[0m\n",
      "\u001b[1m[\u001b[0m\u001b[34;49mnotice\u001b[0m\u001b[1;39;49m]\u001b[0m\u001b[39;49m To update, run: \u001b[0m\u001b[32;49mpip install --upgrade pip\u001b[0m\n",
      "Note: you may need to restart the kernel to use updated packages.\n"
     ]
    }
   ],
   "source": [
    "pip install pandas pyarrow"
   ]
  },
  {
   "cell_type": "code",
   "execution_count": 12,
   "metadata": {},
   "outputs": [
    {
     "name": "stdout",
     "output_type": "stream",
     "text": [
      "(14847179, 12)\n",
      "            Samplingpoint  Pollutant                Start  \\\n",
      "0  NO/SPO_NO0073A_38_1785         38  2019-01-01 00:00:00   \n",
      "1  NO/SPO_NO0073A_38_1785         38  2019-01-01 01:00:00   \n",
      "2  NO/SPO_NO0073A_38_1785         38  2019-01-01 02:00:00   \n",
      "3  NO/SPO_NO0073A_38_1785         38  2019-01-01 03:00:00   \n",
      "4  NO/SPO_NO0073A_38_1785         38  2019-01-01 04:00:00   \n",
      "\n",
      "                   End   Value    Unit AggType  Validity  Verification  \\\n",
      "0  2019-01-01 01:00:00 -9900.0  ug.m-3    hour        -1             1   \n",
      "1  2019-01-01 02:00:00 -9900.0  ug.m-3    hour        -1             1   \n",
      "2  2019-01-01 03:00:00 -9900.0  ug.m-3    hour        -1             1   \n",
      "3  2019-01-01 04:00:00 -9900.0  ug.m-3    hour        -1             1   \n",
      "4  2019-01-01 05:00:00 -9900.0  ug.m-3    hour        -1             1   \n",
      "\n",
      "            ResultTime  DataCapture                      FkObservationLog  \n",
      "0  2020-09-29 11:41:48          NaN  0fc404b0-e3c3-4118-bb62-c80ccfbb99a4  \n",
      "1  2020-09-29 11:41:48          NaN  0fc404b0-e3c3-4118-bb62-c80ccfbb99a4  \n",
      "2  2020-09-29 11:41:48          NaN  0fc404b0-e3c3-4118-bb62-c80ccfbb99a4  \n",
      "3  2020-09-29 11:41:48          NaN  0fc404b0-e3c3-4118-bb62-c80ccfbb99a4  \n",
      "4  2020-09-29 11:41:48          NaN  0fc404b0-e3c3-4118-bb62-c80ccfbb99a4  \n"
     ]
    }
   ],
   "source": [
    "import pandas as pd\n",
    "import os\n",
    "\n",
    "repo_base = \"/Users/clarabottinelli/DSML\"\n",
    "input_folder = os.path.join(repo_base, \"data/raw/AQ_CSV_data\")\n",
    "\n",
    "all_dfs = []\n",
    "\n",
    "for file in os.listdir(input_folder):\n",
    "    if file.endswith(\".csv\"):\n",
    "        file_path = os.path.join(input_folder, file)\n",
    "        df = pd.read_csv(file_path)\n",
    "        all_dfs.append(df)\n",
    "\n",
    "merged_data = pd.concat(all_dfs, ignore_index=True)\n",
    "\n",
    "print(merged_data.shape)\n",
    "print(merged_data.head())"
   ]
  }
 ],
 "metadata": {
  "kernelspec": {
   "display_name": "Python 3",
   "language": "python",
   "name": "python3"
  },
  "language_info": {
   "codemirror_mode": {
    "name": "ipython",
    "version": 3
   },
   "file_extension": ".py",
   "mimetype": "text/x-python",
   "name": "python",
   "nbconvert_exporter": "python",
   "pygments_lexer": "ipython3",
   "version": "3.13.2"
  }
 },
 "nbformat": 4,
 "nbformat_minor": 2
}
