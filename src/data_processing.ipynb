{
 "cells": [
  {
   "cell_type": "markdown",
   "id": "feb10af4",
   "metadata": {},
   "source": [
    "# Fleet data per country"
   ]
  },
  {
   "cell_type": "markdown",
   "id": "c409bf18",
   "metadata": {},
   "source": [
    "All data sourced from the European Alternative Fuels (AF) Observatory:\n",
    "\n",
    "[country_identifier]_psg_vehicle_fleetdata:\n",
    "AF Fleet percentage of total fleet (M1)\n",
    "Fleet of alternative fuelled (BEV, PHEV, H2, LPG, CNG, LNG) passenger cars as a percentage of the total fleet.\n",
    "\n",
    "[country_identifier]_psg_vehicle_fleetdata:\n",
    "AF New registrations (M1)\n",
    "Number of newly registered alternative fuelled (BEV, PHEV, H2, LPG, CNG, LNG) passenger cars (M1).\n",
    "\n",
    "[country_identifier]_psg_vehicle_fleetdata:\n",
    "AF Market share of total registrations (M1)\n",
    "Newly registered alternative fuelled (BEV, PHEV, H2, LPG, CNG, LNG) passenger cars as a percentage of the total number of registrations."
   ]
  },
  {
   "cell_type": "code",
   "execution_count": null,
   "id": "05a07999",
   "metadata": {},
   "outputs": [],
   "source": [
    "import pandas as pd\n",
    "import os\n",
    "\n",
    "# Debug: Check the current working directory\n",
    "print(\"Current Working Directory:\", os.getcwd())\n",
    "\n",
    "# Set the path to the raw data folder\n",
    "data_path = \"../data/raw/fleet_data\"  # Relative path to the raw data folder\n",
    "\n",
    "# Verify if the path exists\n",
    "if not os.path.exists(data_path):\n",
    "    print(f\"Relative path '{data_path}' not found. Using absolute path instead.\")\n",
    "    data_path = \"c:/Users/jskif/OneDrive - epfl.ch/Documents/SMT/DSML/DSML/data/raw\"\n",
    "\n",
    "# List all CSV files in the raw data folder\n",
    "csv_files = [file for file in os.listdir(data_path) if file.endswith(\".csv\")]\n",
    "\n",
    "# Initialize dictionaries to store DataFrames for each file type\n",
    "newreg_dataframes = {}\n",
    "eu_dataframes = {}\n",
    "registrations_dataframes = {}\n",
    "\n",
    "# Process files based on their type\n",
    "for file in csv_files:\n",
    "    country_name = file.split(\"_\")[0]  # Extract country name from the file name\n",
    "    file_path = os.path.join(data_path, file)\n",
    "\n",
    "    if file.endswith(\"newreg.csv\"):\n",
    "        newreg_dataframes[country_name] = pd.read_csv(file_path)\n",
    "    elif file.endswith(\"EU.csv\"):\n",
    "        eu_dataframes[country_name] = pd.read_csv(file_path)\n",
    "    elif file.endswith(\"registrations.csv\"):\n",
    "        registrations_dataframes[country_name] = pd.read_csv(file_path)\n",
    "\n",
    "# Combine datasets for each file type\n",
    "combined_newreg_df = pd.concat(newreg_dataframes.values(), keys=newreg_dataframes.keys(), names=[\"Country\", \"Index\"]).reset_index()\n",
    "combined_fleet_df = pd.concat(eu_dataframes.values(), keys=eu_dataframes.keys(), names=[\"Country\", \"Index\"]).reset_index()\n",
    "combined_registrations_mktshare_df = pd.concat(registrations_dataframes.values(), keys=registrations_dataframes.keys(), names=[\"Country\", \"Index\"]).reset_index()\n",
    "\n",
    "# Display basic information about the combined datasets\n",
    "print(\"Combined New Registrations Dataset Info:\")\n",
    "print(combined_newreg_df.info())\n",
    "\n",
    "print(\"\\nCombined EU Dataset Info:\")\n",
    "print(combined_fleet_df.info())\n",
    "\n",
    "print(\"\\nCombined Registrations Dataset Info:\")\n",
    "print(combined_registrations_mktshare_df.info())\n",
    "\n",
    "# Save the combined datasets to the processed folder\n",
    "processed_path = \"../data/processed\"\n",
    "os.makedirs(processed_path, exist_ok=True)\n",
    "\n",
    "combined_newreg_df.to_csv(os.path.join(processed_path, \"combined_newreg_data.csv\"), index=False)\n",
    "combined_fleet_df.to_csv(os.path.join(processed_path, \"combined_fleet_data.csv\"), index=False)\n",
    "combined_registrations_mktshare_df.to_csv(os.path.join(processed_path, \"combined_registrations_mktshare_data.csv\"), index=False)\n",
    "\n",
    "print(f\"Combined datasets saved to {processed_path}/\")  "
   ]
  },
  {
   "cell_type": "markdown",
   "id": "2fd3f2c8",
   "metadata": {},
   "source": [
    "# Air quality (AQ) data per country"
   ]
  }
 ],
 "metadata": {
  "kernelspec": {
   "display_name": "dsml_EV_project",
   "language": "python",
   "name": "python3"
  },
  "language_info": {
   "codemirror_mode": {
    "name": "ipython",
    "version": 3
   },
   "file_extension": ".py",
   "mimetype": "text/x-python",
   "name": "python",
   "nbconvert_exporter": "python",
   "pygments_lexer": "ipython3",
   "version": "3.12.7"
  }
 },
 "nbformat": 4,
 "nbformat_minor": 5
}
